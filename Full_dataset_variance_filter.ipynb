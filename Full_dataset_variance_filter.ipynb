{
 "cells": [
  {
   "cell_type": "code",
   "execution_count": null,
   "metadata": {},
   "outputs": [],
   "source": [
    "# Import modules\n",
    "\n",
    "import pandas as pd\n",
    "from sklearn.decomposition import PCA\n",
    "import matplotlib.pyplot as plt\n",
    "import numpy as np\n",
    "from sklearn.cluster import AgglomerativeClustering\n",
    "import scipy.cluster.hierarchy as sch\n",
    "from sklearn.feature_selection import VarianceThreshold"
   ]
  },
  {
   "cell_type": "code",
   "execution_count": null,
   "metadata": {},
   "outputs": [],
   "source": [
    "# Import file\n",
    "\n",
    "df = pd.read_excel(r'/home/clodaghboland/MA5118/myotoxicity_data_final.xlsx')"
   ]
  },
  {
   "cell_type": "code",
   "execution_count": null,
   "metadata": {},
   "outputs": [],
   "source": [
    "# Format dataframe\n",
    "\n",
    "df=df.drop('Unnamed: 0', axis=1)\n",
    "df=df.set_index('Smiles')\n",
    "df=df.drop(['Name'], axis=1)\n",
    "df.head()"
   ]
  },
  {
   "cell_type": "code",
   "execution_count": null,
   "metadata": {},
   "outputs": [],
   "source": [
    "# Split data into descriptors and output\n",
    "\n",
    "x=df.drop(['toxic'], axis=1)\n",
    "y=df.loc[:,['toxic']]"
   ]
  },
  {
   "cell_type": "code",
   "execution_count": null,
   "metadata": {},
   "outputs": [],
   "source": [
    "# Remove veriables with zero variance\n",
    "\n",
    "selector = VarianceThreshold(threshold = 1)\n",
    "fitted = selector.fit(x)\n",
    "new_variables = selector.get_support()\n",
    "reduced = x.loc[:, new_variables]"
   ]
  },
  {
   "cell_type": "code",
   "execution_count": null,
   "metadata": {},
   "outputs": [],
   "source": [
    "reduced.shape"
   ]
  },
  {
   "cell_type": "code",
   "execution_count": null,
   "metadata": {},
   "outputs": [],
   "source": [
    "reduced.head()"
   ]
  },
  {
   "cell_type": "code",
   "execution_count": null,
   "metadata": {},
   "outputs": [],
   "source": [
    "# Perform 2 component PCA\n",
    "\n",
    "pca = PCA(n_components=2)\n",
    "principalComponents = pca.fit_transform(reduced)\n",
    "principalDf = pd.DataFrame(data = principalComponents\n",
    "             , columns = ['principal component 1', 'principal component 2'])"
   ]
  },
  {
   "cell_type": "code",
   "execution_count": null,
   "metadata": {},
   "outputs": [],
   "source": [
    "# Format the pca dataframe and combine with 'y' variables\n",
    "\n",
    "y.reset_index(inplace=True)\n",
    "y=y.drop(['Smiles'], axis=1)\n",
    "finalDf = pd.concat([principalDf, y], axis = 1)\n",
    "finalDf.head()"
   ]
  },
  {
   "cell_type": "code",
   "execution_count": null,
   "metadata": {},
   "outputs": [],
   "source": [
    "finalDf.head(215)"
   ]
  },
  {
   "cell_type": "code",
   "execution_count": null,
   "metadata": {},
   "outputs": [],
   "source": [
    "# Plot pca 1 vs pca 2 \n",
    "\n",
    "plt.scatter(finalDf['principal component 1'], finalDf['principal component 2'],\\\n",
    "            c=finalDf['toxic'], cmap='coolwarm')\n",
    "plt.title(\"2 component PCA: 478 genes, 265 chemicals \",fontsize = 15)\n",
    "plt.ylabel(\"Principal Component 2\",fontsize = 15)\n",
    "plt.xlabel(\"Principal Component 1\", fontsize = 15)\n",
    "plt.savefig(\"PCA_all_LVF.png\") # save as png"
   ]
  },
  {
   "cell_type": "code",
   "execution_count": null,
   "metadata": {},
   "outputs": [],
   "source": [
    "# Compute the explained variance ratio of the 2 components \n",
    "\n",
    "explained_variance_ratio = pca.explained_variance_ratio_"
   ]
  },
  {
   "cell_type": "code",
   "execution_count": null,
   "metadata": {},
   "outputs": [],
   "source": [
    "explained_variance_ratio"
   ]
  },
  {
   "cell_type": "code",
   "execution_count": null,
   "metadata": {},
   "outputs": [],
   "source": [
    "# Compute number of components required to give 95% variance\n",
    "\n",
    "pca1 = PCA(.95)\n",
    "pca1.fit(reduced)\n",
    "no_components = pca1.n_components_ "
   ]
  },
  {
   "cell_type": "code",
   "execution_count": null,
   "metadata": {},
   "outputs": [],
   "source": [
    "no_components"
   ]
  },
  {
   "cell_type": "code",
   "execution_count": null,
   "metadata": {},
   "outputs": [],
   "source": [
    "# Plot a dendrogram of the data using wards method\n",
    "\n",
    "#X=df.drop(['toxic'], axis=1)\n",
    "dendrogram = sch.dendrogram(sch.linkage(reduced, method='ward'))\n",
    "plt.title(\"Dendrogram: 478 genes, 265 chemicals\",fontsize = 15)\n",
    "plt.ylabel(\"Similarity\",fontsize = 15)\n",
    "plt.xlabel(\"Chemicals\", fontsize = 15)\n",
    "plt.savefig('dendrogram_all_LVF.jpg', format='jpg', bbox_inches='tight')"
   ]
  },
  {
   "cell_type": "code",
   "execution_count": null,
   "metadata": {},
   "outputs": [],
   "source": [
    "# Perform agglomerative clustering on the top 3 clusters \n",
    "\n",
    "model = AgglomerativeClustering(n_clusters=3, affinity='euclidean', linkage='ward')\n",
    "model.fit(reduced)\n",
    "labels = model.labels_"
   ]
  },
  {
   "cell_type": "code",
   "execution_count": null,
   "metadata": {},
   "outputs": [],
   "source": [
    "# Plot the top 3 clusters after agglomerative clustering\n",
    "\n",
    "X = np.array(reduced)\n",
    "plt.scatter(X[labels==0, 0], X[labels==0, 1], s=50, marker='o', color='red')\n",
    "plt.scatter(X[labels==1, 0], X[labels==1, 1], s=50, marker='o', color='blue')\n",
    "plt.scatter(X[labels==2, 0], X[labels==2, 1], s=50, marker='o', color='green')\n",
    "#plt.scatter(X[labels==3, 0], X[labels==3, 1], s=50, marker='o', color='brown')\n",
    "#plt.scatter(X[labels==4, 0], X[labels==4, 1], s=50, marker='o', color='black')\n",
    "\n",
    "plt.title(\"Hieracrhicial Clustering: 478 genes, 265 chemicals\", fontsize = 15)\n",
    "plt.show()\n",
    "plt.savefig(\"hiercluster_all_final.png\") "
   ]
  },
  {
   "cell_type": "code",
   "execution_count": null,
   "metadata": {},
   "outputs": [],
   "source": []
  }
 ],
 "metadata": {
  "kernelspec": {
   "display_name": "Python 3",
   "language": "python",
   "name": "python3"
  },
  "language_info": {
   "codemirror_mode": {
    "name": "ipython",
    "version": 3
   },
   "file_extension": ".py",
   "mimetype": "text/x-python",
   "name": "python",
   "nbconvert_exporter": "python",
   "pygments_lexer": "ipython3",
   "version": "3.8.5"
  }
 },
 "nbformat": 4,
 "nbformat_minor": 4
}
