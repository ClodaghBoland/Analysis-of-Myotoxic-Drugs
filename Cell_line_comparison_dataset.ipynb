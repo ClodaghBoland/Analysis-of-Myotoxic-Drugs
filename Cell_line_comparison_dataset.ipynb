{
 "cells": [
  {
   "cell_type": "code",
   "execution_count": null,
   "metadata": {},
   "outputs": [],
   "source": [
    "# Import required modules\n",
    "\n",
    "import pandas as pd\n",
    "import pandas as pd\n",
    "from sklearn.decomposition import PCA\n",
    "from sklearn.model_selection import train_test_split\n",
    "from sklearn.svm import SVC\n",
    "from sklearn.metrics import confusion_matrix\n",
    "from sklearn.metrics import accuracy_score\n",
    "from sklearn.metrics import precision_score\n",
    "from sklearn.metrics import matthews_corrcoef\n",
    "from sklearn.metrics import recall_score"
   ]
  },
  {
   "cell_type": "code",
   "execution_count": null,
   "metadata": {},
   "outputs": [],
   "source": [
    "# Read in file\n",
    "\n",
    "df = pd.read_excel(r'/home/clodaghboland/MA5118/muscle_kidney_final.xlsx')"
   ]
  },
  {
   "cell_type": "code",
   "execution_count": null,
   "metadata": {},
   "outputs": [],
   "source": [
    "# Format dataframe\n",
    "\n",
    "df=df.set_index('Unnamed: 0')\n",
    "df.head()"
   ]
  },
  {
   "cell_type": "code",
   "execution_count": null,
   "metadata": {},
   "outputs": [],
   "source": [
    "# Split descriptors and output variables\n",
    "\n",
    "x=df.drop(['Muscle_Cells'], axis=1)\n",
    "y=df.loc[:,['Muscle_Cells']]"
   ]
  },
  {
   "cell_type": "code",
   "execution_count": null,
   "metadata": {},
   "outputs": [],
   "source": [
    "# Perform 2 component pca on the data\n",
    "\n",
    "from sklearn.decomposition import PCA\n",
    "pca = PCA(n_components=2)\n",
    "principalComponents = pca.fit_transform(x)\n",
    "principalDf = pd.DataFrame(data = principalComponents\n",
    "             , columns = ['principal component 1', 'principal component 2'])"
   ]
  },
  {
   "cell_type": "code",
   "execution_count": null,
   "metadata": {},
   "outputs": [],
   "source": [
    "# Forment pca dataframe and add 'y' variables\n",
    "\n",
    "y.reset_index(inplace=True)\n",
    "y=y.drop(['Unnamed: 0'], axis=1)\n",
    "finalDf = pd.concat([principalDf, y], axis = 1)\n",
    "finalDf.head()"
   ]
  },
  {
   "cell_type": "code",
   "execution_count": null,
   "metadata": {},
   "outputs": [],
   "source": [
    "finalDf"
   ]
  },
  {
   "cell_type": "code",
   "execution_count": null,
   "metadata": {},
   "outputs": [],
   "source": []
  },
  {
   "cell_type": "code",
   "execution_count": null,
   "metadata": {},
   "outputs": [],
   "source": [
    "# Plot 2 component pca\n",
    "\n",
    "plt.scatter(finalDf['principal component 1'], finalDf['principal component 2'],\\\n",
    "            c=finalDf['Muscle_Cells'], cmap='coolwarm')\n",
    "plt.title(\"2 component PCA: 978 genes, 24 chemicals\",fontsize = 15)\n",
    "plt.ylabel(\"Principal Component 2\",fontsize = 15)\n",
    "plt.xlabel(\"Principal Component 1\", fontsize = 15)\n",
    "plt.savefig(\"PCA_muscle_final.png\") # save as png"
   ]
  },
  {
   "cell_type": "code",
   "execution_count": null,
   "metadata": {},
   "outputs": [],
   "source": [
    "# Compute the explained variance ratio\n",
    "\n",
    "explaied_variance_ratio =  pca.explained_variance_ratio_"
   ]
  },
  {
   "cell_type": "code",
   "execution_count": null,
   "metadata": {},
   "outputs": [],
   "source": [
    "# Compute the number of clusters required to represent 95% of the variance\n",
    "\n",
    "pca2 = PCA(.95)\n",
    "pca2.fit(x)\n",
    "no_components = pca2.n_components_"
   ]
  },
  {
   "cell_type": "code",
   "execution_count": null,
   "metadata": {},
   "outputs": [],
   "source": [
    "# Plot a dendrogram of data using hierarchical clustering analysis\n",
    "\n",
    "X=df.drop(['Muscle_Cells'], axis=1)\n",
    "dendrogram = sch.dendrogram(sch.linkage(X, method='ward'))\n",
    "plt.title(\"Dendrogram: 978 genes, 24 chemicals\",fontsize = 15)\n",
    "plt.ylabel(\"Similarity\",fontsize = 15)\n",
    "plt.xlabel(\"Chemicals\", fontsize = 10)\n",
    "plt.savefig(\"dendrogram_muscle_final.png\") "
   ]
  },
  {
   "cell_type": "code",
   "execution_count": null,
   "metadata": {},
   "outputs": [],
   "source": [
    "# Perform agglomerative hierarchical clustering on the top 2 components \n",
    "\n",
    "model = AgglomerativeClustering(n_clusters=2, affinity='euclidean', linkage='ward')\n",
    "model.fit(X)\n",
    "labels = model.labels_"
   ]
  },
  {
   "cell_type": "code",
   "execution_count": null,
   "metadata": {},
   "outputs": [],
   "source": [
    "# Plot top 2 clusters in hierarchical clustering\n",
    "\n",
    "X = np.array(X)\n",
    "plt.scatter(X[labels==0, 0], X[labels==0, 1], s=50, marker='o', color='red')\n",
    "plt.scatter(X[labels==1, 0], X[labels==1, 1], s=50, marker='o', color='blue')\n",
    "#plt.scatter(X[labels==2, 0], X[labels==2, 1], s=50, marker='o', color='green')\n",
    "#plt.scatter(X[labels==3, 0], X[labels==3, 1], s=50, marker='o', color='brown')\n",
    "#plt.scatter(X[labels==4, 0], X[labels==4, 1], s=50, marker='o', color='black')\n",
    "\n",
    "plt.title(\"Hieracrhicial Clustering: 978 genes, 24 chemicals\",fontsize = 15)\n",
    "\n",
    "plt.show()\n",
    "plt.savefig(\"hier_muscle_final.png\") \n"
   ]
  },
  {
   "cell_type": "code",
   "execution_count": null,
   "metadata": {},
   "outputs": [],
   "source": []
  }
 ],
 "metadata": {
  "kernelspec": {
   "display_name": "Python 3",
   "language": "python",
   "name": "python3"
  },
  "language_info": {
   "codemirror_mode": {
    "name": "ipython",
    "version": 3
   },
   "file_extension": ".py",
   "mimetype": "text/x-python",
   "name": "python",
   "nbconvert_exporter": "python",
   "pygments_lexer": "ipython3",
   "version": "3.8.5"
  }
 },
 "nbformat": 4,
 "nbformat_minor": 4
}
